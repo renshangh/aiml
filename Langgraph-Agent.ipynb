{
 "cells": [
  {
   "cell_type": "markdown",
   "metadata": {},
   "source": [
    "<center> <h1>AI Agents : Tool Calling & Langgraph with Amazon Bedrock</h1>"
   ]
  },
  {
   "cell_type": "markdown",
   "metadata": {},
   "source": [
    "### 1. Tool Calling"
   ]
  },
  {
   "cell_type": "markdown",
   "metadata": {},
   "source": [
    "#### 1.1 Create Tool"
   ]
  },
  {
   "cell_type": "code",
   "execution_count": 1,
   "metadata": {},
   "outputs": [
    {
     "name": "stdout",
     "output_type": "stream",
     "text": [
      "Collecting seval\n",
      "  Downloading seval-1.1.0-py3-none-any.whl.metadata (391 bytes)\n",
      "Collecting pytest (from seval)\n",
      "  Downloading pytest-8.3.5-py3-none-any.whl.metadata (7.6 kB)\n",
      "Requirement already satisfied: colorama in .\\.venv\\lib\\site-packages (from pytest->seval) (0.4.6)\n",
      "Collecting iniconfig (from pytest->seval)\n",
      "  Downloading iniconfig-2.1.0-py3-none-any.whl.metadata (2.7 kB)\n",
      "Requirement already satisfied: packaging in .\\.venv\\lib\\site-packages (from pytest->seval) (25.0)\n",
      "Collecting pluggy<2,>=1.5 (from pytest->seval)\n",
      "  Downloading pluggy-1.5.0-py3-none-any.whl.metadata (4.8 kB)\n",
      "Downloading seval-1.1.0-py3-none-any.whl (4.5 kB)\n",
      "Downloading pytest-8.3.5-py3-none-any.whl (343 kB)\n",
      "Downloading pluggy-1.5.0-py3-none-any.whl (20 kB)\n",
      "Downloading iniconfig-2.1.0-py3-none-any.whl (6.0 kB)\n",
      "Installing collected packages: pluggy, iniconfig, pytest, seval\n",
      "\n",
      "   -------------------- ------------------- 2/4 [pytest]\n",
      "   -------------------- ------------------- 2/4 [pytest]\n",
      "   ---------------------------------------- 4/4 [seval]\n",
      "\n",
      "Successfully installed iniconfig-2.1.0 pluggy-1.5.0 pytest-8.3.5 seval-1.1.0\n",
      "Note: you may need to restart the kernel to use updated packages.\n"
     ]
    }
   ],
   "source": [
    "%pip install seval"
   ]
  },
  {
   "cell_type": "code",
   "execution_count": 7,
   "metadata": {},
   "outputs": [
    {
     "name": "stdout",
     "output_type": "stream",
     "text": [
      "Requirement already satisfied: langchain in .\\.venv\\lib\\site-packages (0.3.25)\n",
      "Requirement already satisfied: langchain-core<1.0.0,>=0.3.58 in .\\.venv\\lib\\site-packages (from langchain) (0.3.59)\n",
      "Requirement already satisfied: langchain-text-splitters<1.0.0,>=0.3.8 in .\\.venv\\lib\\site-packages (from langchain) (0.3.8)\n",
      "Requirement already satisfied: langsmith<0.4,>=0.1.17 in .\\.venv\\lib\\site-packages (from langchain) (0.3.42)\n",
      "Requirement already satisfied: pydantic<3.0.0,>=2.7.4 in .\\.venv\\lib\\site-packages (from langchain) (2.11.4)\n",
      "Requirement already satisfied: SQLAlchemy<3,>=1.4 in .\\.venv\\lib\\site-packages (from langchain) (2.0.40)\n",
      "Requirement already satisfied: requests<3,>=2 in .\\.venv\\lib\\site-packages (from langchain) (2.32.3)\n",
      "Requirement already satisfied: PyYAML>=5.3 in .\\.venv\\lib\\site-packages (from langchain) (6.0.2)\n",
      "Requirement already satisfied: tenacity!=8.4.0,<10.0.0,>=8.1.0 in .\\.venv\\lib\\site-packages (from langchain-core<1.0.0,>=0.3.58->langchain) (9.1.2)\n",
      "Requirement already satisfied: jsonpatch<2.0,>=1.33 in .\\.venv\\lib\\site-packages (from langchain-core<1.0.0,>=0.3.58->langchain) (1.33)\n",
      "Requirement already satisfied: packaging<25,>=23.2 in .\\.venv\\lib\\site-packages (from langchain-core<1.0.0,>=0.3.58->langchain) (24.2)\n",
      "Requirement already satisfied: typing-extensions>=4.7 in .\\.venv\\lib\\site-packages (from langchain-core<1.0.0,>=0.3.58->langchain) (4.13.2)\n",
      "Requirement already satisfied: jsonpointer>=1.9 in .\\.venv\\lib\\site-packages (from jsonpatch<2.0,>=1.33->langchain-core<1.0.0,>=0.3.58->langchain) (3.0.0)\n",
      "Requirement already satisfied: httpx<1,>=0.23.0 in .\\.venv\\lib\\site-packages (from langsmith<0.4,>=0.1.17->langchain) (0.28.1)\n",
      "Requirement already satisfied: orjson<4.0.0,>=3.9.14 in .\\.venv\\lib\\site-packages (from langsmith<0.4,>=0.1.17->langchain) (3.10.18)\n",
      "Requirement already satisfied: requests-toolbelt<2.0.0,>=1.0.0 in .\\.venv\\lib\\site-packages (from langsmith<0.4,>=0.1.17->langchain) (1.0.0)\n",
      "Requirement already satisfied: zstandard<0.24.0,>=0.23.0 in .\\.venv\\lib\\site-packages (from langsmith<0.4,>=0.1.17->langchain) (0.23.0)\n",
      "Requirement already satisfied: anyio in .\\.venv\\lib\\site-packages (from httpx<1,>=0.23.0->langsmith<0.4,>=0.1.17->langchain) (4.9.0)\n",
      "Requirement already satisfied: certifi in .\\.venv\\lib\\site-packages (from httpx<1,>=0.23.0->langsmith<0.4,>=0.1.17->langchain) (2025.4.26)\n",
      "Requirement already satisfied: httpcore==1.* in .\\.venv\\lib\\site-packages (from httpx<1,>=0.23.0->langsmith<0.4,>=0.1.17->langchain) (1.0.9)\n",
      "Requirement already satisfied: idna in .\\.venv\\lib\\site-packages (from httpx<1,>=0.23.0->langsmith<0.4,>=0.1.17->langchain) (3.10)\n",
      "Requirement already satisfied: h11>=0.16 in .\\.venv\\lib\\site-packages (from httpcore==1.*->httpx<1,>=0.23.0->langsmith<0.4,>=0.1.17->langchain) (0.16.0)\n",
      "Requirement already satisfied: annotated-types>=0.6.0 in .\\.venv\\lib\\site-packages (from pydantic<3.0.0,>=2.7.4->langchain) (0.7.0)\n",
      "Requirement already satisfied: pydantic-core==2.33.2 in .\\.venv\\lib\\site-packages (from pydantic<3.0.0,>=2.7.4->langchain) (2.33.2)\n",
      "Requirement already satisfied: typing-inspection>=0.4.0 in .\\.venv\\lib\\site-packages (from pydantic<3.0.0,>=2.7.4->langchain) (0.4.0)\n",
      "Requirement already satisfied: charset-normalizer<4,>=2 in .\\.venv\\lib\\site-packages (from requests<3,>=2->langchain) (3.4.2)\n",
      "Requirement already satisfied: urllib3<3,>=1.21.1 in .\\.venv\\lib\\site-packages (from requests<3,>=2->langchain) (2.4.0)\n",
      "Requirement already satisfied: greenlet>=1 in .\\.venv\\lib\\site-packages (from SQLAlchemy<3,>=1.4->langchain) (3.2.2)\n",
      "Requirement already satisfied: sniffio>=1.1 in .\\.venv\\lib\\site-packages (from anyio->httpx<1,>=0.23.0->langsmith<0.4,>=0.1.17->langchain) (1.3.1)\n",
      "Note: you may need to restart the kernel to use updated packages.\n",
      "Collecting langchain_aws\n",
      "  Downloading langchain_aws-0.2.23-py3-none-any.whl.metadata (3.2 kB)\n",
      "Collecting boto3>=1.37.24 (from langchain_aws)\n",
      "  Downloading boto3-1.38.13-py3-none-any.whl.metadata (6.6 kB)\n",
      "Requirement already satisfied: langchain-core<0.4.0,>=0.3.59 in .\\.venv\\lib\\site-packages (from langchain_aws) (0.3.59)\n",
      "Collecting numpy<3,>=1.26.0 (from langchain_aws)\n",
      "  Downloading numpy-2.2.5-cp313-cp313-win_amd64.whl.metadata (60 kB)\n",
      "Requirement already satisfied: pydantic<3,>=2.10.0 in .\\.venv\\lib\\site-packages (from langchain_aws) (2.11.4)\n",
      "Requirement already satisfied: langsmith<0.4,>=0.1.125 in .\\.venv\\lib\\site-packages (from langchain-core<0.4.0,>=0.3.59->langchain_aws) (0.3.42)\n",
      "Requirement already satisfied: tenacity!=8.4.0,<10.0.0,>=8.1.0 in .\\.venv\\lib\\site-packages (from langchain-core<0.4.0,>=0.3.59->langchain_aws) (9.1.2)\n",
      "Requirement already satisfied: jsonpatch<2.0,>=1.33 in .\\.venv\\lib\\site-packages (from langchain-core<0.4.0,>=0.3.59->langchain_aws) (1.33)\n",
      "Requirement already satisfied: PyYAML>=5.3 in .\\.venv\\lib\\site-packages (from langchain-core<0.4.0,>=0.3.59->langchain_aws) (6.0.2)\n",
      "Requirement already satisfied: packaging<25,>=23.2 in .\\.venv\\lib\\site-packages (from langchain-core<0.4.0,>=0.3.59->langchain_aws) (24.2)\n",
      "Requirement already satisfied: typing-extensions>=4.7 in .\\.venv\\lib\\site-packages (from langchain-core<0.4.0,>=0.3.59->langchain_aws) (4.13.2)\n",
      "Requirement already satisfied: jsonpointer>=1.9 in .\\.venv\\lib\\site-packages (from jsonpatch<2.0,>=1.33->langchain-core<0.4.0,>=0.3.59->langchain_aws) (3.0.0)\n",
      "Requirement already satisfied: httpx<1,>=0.23.0 in .\\.venv\\lib\\site-packages (from langsmith<0.4,>=0.1.125->langchain-core<0.4.0,>=0.3.59->langchain_aws) (0.28.1)\n",
      "Requirement already satisfied: orjson<4.0.0,>=3.9.14 in .\\.venv\\lib\\site-packages (from langsmith<0.4,>=0.1.125->langchain-core<0.4.0,>=0.3.59->langchain_aws) (3.10.18)\n",
      "Requirement already satisfied: requests<3,>=2 in .\\.venv\\lib\\site-packages (from langsmith<0.4,>=0.1.125->langchain-core<0.4.0,>=0.3.59->langchain_aws) (2.32.3)\n",
      "Requirement already satisfied: requests-toolbelt<2.0.0,>=1.0.0 in .\\.venv\\lib\\site-packages (from langsmith<0.4,>=0.1.125->langchain-core<0.4.0,>=0.3.59->langchain_aws) (1.0.0)\n",
      "Requirement already satisfied: zstandard<0.24.0,>=0.23.0 in .\\.venv\\lib\\site-packages (from langsmith<0.4,>=0.1.125->langchain-core<0.4.0,>=0.3.59->langchain_aws) (0.23.0)\n",
      "Requirement already satisfied: anyio in .\\.venv\\lib\\site-packages (from httpx<1,>=0.23.0->langsmith<0.4,>=0.1.125->langchain-core<0.4.0,>=0.3.59->langchain_aws) (4.9.0)\n",
      "Requirement already satisfied: certifi in .\\.venv\\lib\\site-packages (from httpx<1,>=0.23.0->langsmith<0.4,>=0.1.125->langchain-core<0.4.0,>=0.3.59->langchain_aws) (2025.4.26)\n",
      "Requirement already satisfied: httpcore==1.* in .\\.venv\\lib\\site-packages (from httpx<1,>=0.23.0->langsmith<0.4,>=0.1.125->langchain-core<0.4.0,>=0.3.59->langchain_aws) (1.0.9)\n",
      "Requirement already satisfied: idna in .\\.venv\\lib\\site-packages (from httpx<1,>=0.23.0->langsmith<0.4,>=0.1.125->langchain-core<0.4.0,>=0.3.59->langchain_aws) (3.10)\n",
      "Requirement already satisfied: h11>=0.16 in .\\.venv\\lib\\site-packages (from httpcore==1.*->httpx<1,>=0.23.0->langsmith<0.4,>=0.1.125->langchain-core<0.4.0,>=0.3.59->langchain_aws) (0.16.0)\n",
      "Requirement already satisfied: annotated-types>=0.6.0 in .\\.venv\\lib\\site-packages (from pydantic<3,>=2.10.0->langchain_aws) (0.7.0)\n",
      "Requirement already satisfied: pydantic-core==2.33.2 in .\\.venv\\lib\\site-packages (from pydantic<3,>=2.10.0->langchain_aws) (2.33.2)\n",
      "Requirement already satisfied: typing-inspection>=0.4.0 in .\\.venv\\lib\\site-packages (from pydantic<3,>=2.10.0->langchain_aws) (0.4.0)\n",
      "Requirement already satisfied: charset-normalizer<4,>=2 in .\\.venv\\lib\\site-packages (from requests<3,>=2->langsmith<0.4,>=0.1.125->langchain-core<0.4.0,>=0.3.59->langchain_aws) (3.4.2)\n",
      "Requirement already satisfied: urllib3<3,>=1.21.1 in .\\.venv\\lib\\site-packages (from requests<3,>=2->langsmith<0.4,>=0.1.125->langchain-core<0.4.0,>=0.3.59->langchain_aws) (2.4.0)\n",
      "Collecting botocore<1.39.0,>=1.38.13 (from boto3>=1.37.24->langchain_aws)\n",
      "  Downloading botocore-1.38.13-py3-none-any.whl.metadata (5.7 kB)\n",
      "Collecting jmespath<2.0.0,>=0.7.1 (from boto3>=1.37.24->langchain_aws)\n",
      "  Downloading jmespath-1.0.1-py3-none-any.whl.metadata (7.6 kB)\n",
      "Collecting s3transfer<0.13.0,>=0.12.0 (from boto3>=1.37.24->langchain_aws)\n",
      "  Downloading s3transfer-0.12.0-py3-none-any.whl.metadata (1.7 kB)\n",
      "Requirement already satisfied: python-dateutil<3.0.0,>=2.1 in .\\.venv\\lib\\site-packages (from botocore<1.39.0,>=1.38.13->boto3>=1.37.24->langchain_aws) (2.9.0.post0)\n",
      "Requirement already satisfied: six>=1.5 in .\\.venv\\lib\\site-packages (from python-dateutil<3.0.0,>=2.1->botocore<1.39.0,>=1.38.13->boto3>=1.37.24->langchain_aws) (1.17.0)\n",
      "Requirement already satisfied: sniffio>=1.1 in .\\.venv\\lib\\site-packages (from anyio->httpx<1,>=0.23.0->langsmith<0.4,>=0.1.125->langchain-core<0.4.0,>=0.3.59->langchain_aws) (1.3.1)\n",
      "Downloading langchain_aws-0.2.23-py3-none-any.whl (120 kB)\n",
      "Downloading numpy-2.2.5-cp313-cp313-win_amd64.whl (12.6 MB)\n",
      "   ---------------------------------------- 0.0/12.6 MB ? eta -:--:--\n",
      "   ------ --------------------------------- 2.1/12.6 MB 13.7 MB/s eta 0:00:01\n",
      "   ------------------------------------ --- 11.5/12.6 MB 32.3 MB/s eta 0:00:01\n",
      "   ---------------------------------------- 12.6/12.6 MB 32.0 MB/s eta 0:00:00\n",
      "Downloading boto3-1.38.13-py3-none-any.whl (139 kB)\n",
      "Downloading botocore-1.38.13-py3-none-any.whl (13.5 MB)\n",
      "   ---------------------------------------- 0.0/13.5 MB ? eta -:--:--\n",
      "   ---------------------------------------  13.4/13.5 MB 67.8 MB/s eta 0:00:01\n",
      "   ---------------------------------------- 13.5/13.5 MB 54.4 MB/s eta 0:00:00\n",
      "Downloading jmespath-1.0.1-py3-none-any.whl (20 kB)\n",
      "Downloading s3transfer-0.12.0-py3-none-any.whl (84 kB)\n",
      "Installing collected packages: numpy, jmespath, botocore, s3transfer, boto3, langchain_aws\n",
      "\n",
      "   ---------------------------------------- 0/6 [numpy]\n",
      "   ---------------------------------------- 0/6 [numpy]\n",
      "   ---------------------------------------- 0/6 [numpy]\n",
      "   ---------------------------------------- 0/6 [numpy]\n",
      "   ---------------------------------------- 0/6 [numpy]\n",
      "   ---------------------------------------- 0/6 [numpy]\n",
      "   ---------------------------------------- 0/6 [numpy]\n",
      "   ---------------------------------------- 0/6 [numpy]\n",
      "   ---------------------------------------- 0/6 [numpy]\n",
      "   ---------------------------------------- 0/6 [numpy]\n",
      "   ---------------------------------------- 0/6 [numpy]\n",
      "   ---------------------------------------- 0/6 [numpy]\n",
      "   ---------------------------------------- 0/6 [numpy]\n",
      "   ---------------------------------------- 0/6 [numpy]\n",
      "   ---------------------------------------- 0/6 [numpy]\n",
      "   ---------------------------------------- 0/6 [numpy]\n",
      "   ---------------------------------------- 0/6 [numpy]\n",
      "   ------------- -------------------------- 2/6 [botocore]\n",
      "   ------------- -------------------------- 2/6 [botocore]\n",
      "   ------------- -------------------------- 2/6 [botocore]\n",
      "   ------------- -------------------------- 2/6 [botocore]\n",
      "   ------------- -------------------------- 2/6 [botocore]\n",
      "   ------------- -------------------------- 2/6 [botocore]\n",
      "   ------------- -------------------------- 2/6 [botocore]\n",
      "   ------------- -------------------------- 2/6 [botocore]\n",
      "   ------------- -------------------------- 2/6 [botocore]\n",
      "   ------------- -------------------------- 2/6 [botocore]\n",
      "   ------------- -------------------------- 2/6 [botocore]\n",
      "   ------------- -------------------------- 2/6 [botocore]\n",
      "   -------------------- ------------------- 3/6 [s3transfer]\n",
      "   -------------------------- ------------- 4/6 [boto3]\n",
      "   --------------------------------- ------ 5/6 [langchain_aws]\n",
      "   ---------------------------------------- 6/6 [langchain_aws]\n",
      "\n",
      "Successfully installed boto3-1.38.13 botocore-1.38.13 jmespath-1.0.1 langchain_aws-0.2.23 numpy-2.2.5 s3transfer-0.12.0\n",
      "Note: you may need to restart the kernel to use updated packages.\n"
     ]
    }
   ],
   "source": [
    "%pip install langchain\n",
    "%pip install langchain_aws"
   ]
  },
  {
   "cell_type": "code",
   "execution_count": 21,
   "metadata": {},
   "outputs": [],
   "source": [
    "from langchain_core.tools import tool\n",
    "from seval import safe_eval\n",
    "\n",
    "@tool\n",
    "def calculator(numeric_formula: str) -> float:\n",
    "    \"\"\"Evaluate a complex numeric formula (containing only floats and the operators +, -, *, /, **, and parentheses) and return the result.\"\"\"\n",
    "    return safe_eval(numeric_formula)"
   ]
  },
  {
   "cell_type": "markdown",
   "metadata": {},
   "source": [
    "#### 1.2 Bind Tool"
   ]
  },
  {
   "cell_type": "code",
   "execution_count": 22,
   "metadata": {},
   "outputs": [],
   "source": [
    "import yaml\n",
    "\n",
    "with open('./secrets.yml', 'r') as file:\n",
    "    credentials = yaml.safe_load(file)"
   ]
  },
  {
   "cell_type": "code",
   "execution_count": 23,
   "metadata": {},
   "outputs": [],
   "source": [
    "from langchain_aws import ChatBedrock\n",
    "\n",
    "raw_llm = ChatBedrock(\n",
    "    model_id=\"us.anthropic.claude-3-5-sonnet-20240620-v1:0\",\n",
    "    region_name=\"us-east-1\",\n",
    "    aws_access_key_id=credentials[\"bedrock\"][\"access_key\"],\n",
    "    aws_secret_access_key=credentials[\"bedrock\"][\"secret_key\"]\n",
    ")"
   ]
  },
  {
   "cell_type": "code",
   "execution_count": 24,
   "metadata": {},
   "outputs": [],
   "source": [
    "tool_llm = raw_llm.bind_tools([calculator])"
   ]
  },
  {
   "cell_type": "markdown",
   "metadata": {},
   "source": [
    "#### 1.3 Invoke Tool"
   ]
  },
  {
   "cell_type": "markdown",
   "metadata": {},
   "source": [
    "Let's say we want to evaluate : $e^\\pi - \\pi^e$"
   ]
  },
  {
   "cell_type": "code",
   "execution_count": 25,
   "metadata": {},
   "outputs": [],
   "source": [
    "query = \"What is the result of e to the pi minus pi to the e ? Reply directly with the answer. If you don't know the answer, say 'I don't know'.\""
   ]
  },
  {
   "cell_type": "code",
   "execution_count": 26,
   "metadata": {},
   "outputs": [
    {
     "data": {
      "text/plain": [
       "'The result of e^π - π^e is approximately 19.1402.'"
      ]
     },
     "execution_count": 26,
     "metadata": {},
     "output_type": "execute_result"
    }
   ],
   "source": [
    "result = raw_llm.invoke(query)\n",
    "result.content"
   ]
  },
  {
   "cell_type": "code",
   "execution_count": 30,
   "metadata": {},
   "outputs": [
    {
     "data": {
      "text/plain": [
       "AIMessage(content=\"To calculate the result of e^π - π^e, we need to use the calculator function. Let's break this down into steps:\\n\\n1. Calculate e^π\\n2. Calculate π^e\\n3. Subtract the second result from the first\\n\\nI'll use the calculator function to perform this calculation.\", additional_kwargs={'usage': {'prompt_tokens': 405, 'completion_tokens': 149, 'cache_read_input_tokens': 0, 'cache_write_input_tokens': 0, 'total_tokens': 554}, 'stop_reason': 'tool_use', 'thinking': {}, 'model_id': 'us.anthropic.claude-3-5-sonnet-20240620-v1:0', 'model_name': 'us.anthropic.claude-3-5-sonnet-20240620-v1:0'}, response_metadata={'usage': {'prompt_tokens': 405, 'completion_tokens': 149, 'cache_read_input_tokens': 0, 'cache_write_input_tokens': 0, 'total_tokens': 554}, 'stop_reason': 'tool_use', 'thinking': {}, 'model_id': 'us.anthropic.claude-3-5-sonnet-20240620-v1:0', 'model_name': 'us.anthropic.claude-3-5-sonnet-20240620-v1:0'}, id='run--216a2156-d8b0-423c-8d53-caffe5b203a2-0', tool_calls=[{'name': 'calculator', 'args': {'numeric_formula': '(2.718281828 ** 3.141592654) - (3.141592654 ** 2.718281828)'}, 'id': 'toolu_bdrk_01J9PjvJq1ps7tb5G2FnFMCQ', 'type': 'tool_call'}], usage_metadata={'input_tokens': 405, 'output_tokens': 149, 'total_tokens': 554, 'input_token_details': {'cache_creation': 0, 'cache_read': 0}})"
      ]
     },
     "execution_count": 30,
     "metadata": {},
     "output_type": "execute_result"
    }
   ],
   "source": [
    "result = tool_llm.invoke(query)\n",
    "result"
   ]
  },
  {
   "cell_type": "code",
   "execution_count": 28,
   "metadata": {},
   "outputs": [
    {
     "data": {
      "text/plain": [
       "[{'name': 'calculator',\n",
       "  'args': {'numeric_formula': '(2.718281828459045 ** 3.141592653589793) - (3.141592653589793 ** 2.718281828459045)'},\n",
       "  'id': 'toolu_bdrk_011KorunM6idBBFC9tHoYdtH',\n",
       "  'type': 'tool_call'}]"
      ]
     },
     "execution_count": 28,
     "metadata": {},
     "output_type": "execute_result"
    }
   ],
   "source": [
    "tool_calls = result.tool_calls\n",
    "tool_calls"
   ]
  },
  {
   "cell_type": "code",
   "execution_count": 29,
   "metadata": {},
   "outputs": [
    {
     "data": {
      "text/plain": [
       "23.140692632779263"
      ]
     },
     "execution_count": 29,
     "metadata": {},
     "output_type": "execute_result"
    }
   ],
   "source": [
    "calculator.invoke(tool_calls[0][\"args\"][\"numeric_formula\"])"
   ]
  },
  {
   "cell_type": "markdown",
   "metadata": {},
   "source": [
    "### 2. Simple AI Agent with Langgraph"
   ]
  },
  {
   "cell_type": "code",
   "execution_count": 41,
   "metadata": {},
   "outputs": [
    {
     "name": "stdout",
     "output_type": "stream",
     "text": [
      "Requirement already satisfied: langgraph in .\\.venv\\lib\\site-packages (0.4.3)\n",
      "Requirement already satisfied: langchain-core>=0.1 in .\\.venv\\lib\\site-packages (from langgraph) (0.3.59)\n",
      "Requirement already satisfied: langgraph-checkpoint<3.0.0,>=2.0.10 in .\\.venv\\lib\\site-packages (from langgraph) (2.0.25)\n",
      "Requirement already satisfied: langgraph-prebuilt>=0.1.8 in .\\.venv\\lib\\site-packages (from langgraph) (0.1.8)\n",
      "Requirement already satisfied: langgraph-sdk>=0.1.42 in .\\.venv\\lib\\site-packages (from langgraph) (0.1.66)\n",
      "Requirement already satisfied: pydantic>=2.7.4 in .\\.venv\\lib\\site-packages (from langgraph) (2.11.4)\n",
      "Requirement already satisfied: xxhash<4.0.0,>=3.5.0 in .\\.venv\\lib\\site-packages (from langgraph) (3.5.0)\n",
      "Requirement already satisfied: ormsgpack<2.0.0,>=1.8.0 in .\\.venv\\lib\\site-packages (from langgraph-checkpoint<3.0.0,>=2.0.10->langgraph) (1.9.1)\n",
      "Requirement already satisfied: langsmith<0.4,>=0.1.125 in .\\.venv\\lib\\site-packages (from langchain-core>=0.1->langgraph) (0.3.42)\n",
      "Requirement already satisfied: tenacity!=8.4.0,<10.0.0,>=8.1.0 in .\\.venv\\lib\\site-packages (from langchain-core>=0.1->langgraph) (9.1.2)\n",
      "Requirement already satisfied: jsonpatch<2.0,>=1.33 in .\\.venv\\lib\\site-packages (from langchain-core>=0.1->langgraph) (1.33)\n",
      "Requirement already satisfied: PyYAML>=5.3 in .\\.venv\\lib\\site-packages (from langchain-core>=0.1->langgraph) (6.0.2)\n",
      "Requirement already satisfied: packaging<25,>=23.2 in .\\.venv\\lib\\site-packages (from langchain-core>=0.1->langgraph) (24.2)\n",
      "Requirement already satisfied: typing-extensions>=4.7 in .\\.venv\\lib\\site-packages (from langchain-core>=0.1->langgraph) (4.13.2)\n",
      "Requirement already satisfied: jsonpointer>=1.9 in .\\.venv\\lib\\site-packages (from jsonpatch<2.0,>=1.33->langchain-core>=0.1->langgraph) (3.0.0)\n",
      "Requirement already satisfied: httpx<1,>=0.23.0 in .\\.venv\\lib\\site-packages (from langsmith<0.4,>=0.1.125->langchain-core>=0.1->langgraph) (0.28.1)\n",
      "Requirement already satisfied: orjson<4.0.0,>=3.9.14 in .\\.venv\\lib\\site-packages (from langsmith<0.4,>=0.1.125->langchain-core>=0.1->langgraph) (3.10.18)\n",
      "Requirement already satisfied: requests<3,>=2 in .\\.venv\\lib\\site-packages (from langsmith<0.4,>=0.1.125->langchain-core>=0.1->langgraph) (2.32.3)\n",
      "Requirement already satisfied: requests-toolbelt<2.0.0,>=1.0.0 in .\\.venv\\lib\\site-packages (from langsmith<0.4,>=0.1.125->langchain-core>=0.1->langgraph) (1.0.0)\n",
      "Requirement already satisfied: zstandard<0.24.0,>=0.23.0 in .\\.venv\\lib\\site-packages (from langsmith<0.4,>=0.1.125->langchain-core>=0.1->langgraph) (0.23.0)\n",
      "Requirement already satisfied: anyio in .\\.venv\\lib\\site-packages (from httpx<1,>=0.23.0->langsmith<0.4,>=0.1.125->langchain-core>=0.1->langgraph) (4.9.0)\n",
      "Requirement already satisfied: certifi in .\\.venv\\lib\\site-packages (from httpx<1,>=0.23.0->langsmith<0.4,>=0.1.125->langchain-core>=0.1->langgraph) (2025.4.26)\n",
      "Requirement already satisfied: httpcore==1.* in .\\.venv\\lib\\site-packages (from httpx<1,>=0.23.0->langsmith<0.4,>=0.1.125->langchain-core>=0.1->langgraph) (1.0.9)\n",
      "Requirement already satisfied: idna in .\\.venv\\lib\\site-packages (from httpx<1,>=0.23.0->langsmith<0.4,>=0.1.125->langchain-core>=0.1->langgraph) (3.10)\n",
      "Requirement already satisfied: h11>=0.16 in .\\.venv\\lib\\site-packages (from httpcore==1.*->httpx<1,>=0.23.0->langsmith<0.4,>=0.1.125->langchain-core>=0.1->langgraph) (0.16.0)\n",
      "Requirement already satisfied: annotated-types>=0.6.0 in .\\.venv\\lib\\site-packages (from pydantic>=2.7.4->langgraph) (0.7.0)\n",
      "Requirement already satisfied: pydantic-core==2.33.2 in .\\.venv\\lib\\site-packages (from pydantic>=2.7.4->langgraph) (2.33.2)\n",
      "Requirement already satisfied: typing-inspection>=0.4.0 in .\\.venv\\lib\\site-packages (from pydantic>=2.7.4->langgraph) (0.4.0)\n",
      "Requirement already satisfied: charset-normalizer<4,>=2 in .\\.venv\\lib\\site-packages (from requests<3,>=2->langsmith<0.4,>=0.1.125->langchain-core>=0.1->langgraph) (3.4.2)\n",
      "Requirement already satisfied: urllib3<3,>=1.21.1 in .\\.venv\\lib\\site-packages (from requests<3,>=2->langsmith<0.4,>=0.1.125->langchain-core>=0.1->langgraph) (2.4.0)\n",
      "Requirement already satisfied: sniffio>=1.1 in .\\.venv\\lib\\site-packages (from anyio->httpx<1,>=0.23.0->langsmith<0.4,>=0.1.125->langchain-core>=0.1->langgraph) (1.3.1)\n",
      "Note: you may need to restart the kernel to use updated packages.\n"
     ]
    }
   ],
   "source": [
    "%pip install langgraph"
   ]
  },
  {
   "cell_type": "markdown",
   "metadata": {},
   "source": [
    "#### 2.1 Desired Workflow"
   ]
  },
  {
   "cell_type": "markdown",
   "metadata": {},
   "source": [
    "* Step 1 : Invoke the LLM on initial message.\n",
    "\n",
    "* Step 2 : If the LLM answers directly, then END. If the LLM outputs a tool call, invoke the tool.\n",
    "\n",
    "* Step 3 : Add tool output to messages and Invoke LLM. Go back to Step 2."
   ]
  },
  {
   "cell_type": "markdown",
   "metadata": {},
   "source": [
    "#### 2.2 Graph Implementation"
   ]
  },
  {
   "cell_type": "markdown",
   "metadata": {},
   "source": [
    "##### 2.2.1 Graph & State"
   ]
  },
  {
   "cell_type": "code",
   "execution_count": 32,
   "metadata": {},
   "outputs": [],
   "source": [
    "from typing import Annotated\n",
    "from typing_extensions import TypedDict\n",
    "from langgraph.graph import StateGraph\n",
    "from langgraph.graph.message import add_messages"
   ]
  },
  {
   "cell_type": "code",
   "execution_count": 274,
   "metadata": {},
   "outputs": [],
   "source": [
    "class State(TypedDict):\n",
    "    messages: Annotated[list, add_messages]\n",
    "\n",
    "graph_builder = StateGraph(State)"
   ]
  },
  {
   "cell_type": "markdown",
   "metadata": {},
   "source": [
    "##### 2.2.2 Graph Nodes"
   ]
  },
  {
   "cell_type": "code",
   "execution_count": 275,
   "metadata": {},
   "outputs": [],
   "source": [
    "class LLMNode:\n",
    "    def __init__(self, llm):\n",
    "        self.llm = llm\n",
    "\n",
    "    def __call__(self, state: State):\n",
    "        return {\"messages\": [self.llm.invoke(state[\"messages\"])]}\n",
    "\n",
    "llm_node = LLMNode(tool_llm)"
   ]
  },
  {
   "cell_type": "code",
   "execution_count": 276,
   "metadata": {},
   "outputs": [],
   "source": [
    "from langgraph.prebuilt import ToolNode\n",
    "\n",
    "tool_node = ToolNode([calculator])"
   ]
  },
  {
   "cell_type": "code",
   "execution_count": 277,
   "metadata": {},
   "outputs": [
    {
     "data": {
      "text/plain": [
       "<langgraph.graph.state.StateGraph at 0x1fd87ad6cd0>"
      ]
     },
     "execution_count": 277,
     "metadata": {},
     "output_type": "execute_result"
    }
   ],
   "source": [
    "graph_builder.add_node(\"llm\", llm_node)\n",
    "graph_builder.add_node(\"tools\", tool_node)"
   ]
  },
  {
   "cell_type": "markdown",
   "metadata": {},
   "source": [
    "##### 2.2.3 Graph Edges"
   ]
  },
  {
   "cell_type": "code",
   "execution_count": 278,
   "metadata": {},
   "outputs": [
    {
     "data": {
      "text/plain": [
       "<langgraph.graph.state.StateGraph at 0x1fd87ad6cd0>"
      ]
     },
     "execution_count": 278,
     "metadata": {},
     "output_type": "execute_result"
    }
   ],
   "source": [
    "from langgraph.graph import START\n",
    "from langgraph.prebuilt import tools_condition\n",
    "\n",
    "graph_builder.add_edge(START, \"llm\") # Step 1\n",
    "\n",
    "graph_builder.add_conditional_edges(\"llm\", tools_condition) # Step 2\n",
    "\n",
    "graph_builder.add_edge(\"tools\", \"llm\") # Step 3"
   ]
  },
  {
   "cell_type": "markdown",
   "metadata": {},
   "source": [
    "#### 2.3 AI Agent"
   ]
  },
  {
   "cell_type": "code",
   "execution_count": 279,
   "metadata": {},
   "outputs": [],
   "source": [
    "agent = graph_builder.compile()"
   ]
  },
  {
   "cell_type": "code",
   "execution_count": 280,
   "metadata": {},
   "outputs": [
    {
     "data": {
      "image/png": "[encoded data removed]",
      "text/plain": [
       "<IPython.core.display.Image object>"
      ]
     },
     "metadata": {},
     "output_type": "display_data"
    }
   ],
   "source": [
    "from IPython.display import Image, display\n",
    "from langgraph.mermaid import MermaidDrawMethod\n",
    "# Display the graph\n",
    "display(Image(agent.get_graph().draw_mermaid_png(draw_method=MermaidDrawMethod.PYPPETEER)))"
   ]
  },
  {
   "cell_type": "code",
   "execution_count": 281,
   "metadata": {},
   "outputs": [
    {
     "name": "stdout",
     "output_type": "stream",
     "text": [
      "================================\u001b[1m Human Message \u001b[0m=================================\n",
      "\n",
      "What is the result of e to the pi minus pi to the e ? Reply directly with the answer. If you don't know the answer, say 'I don't know'.\n",
      "==================================\u001b[1m Ai Message \u001b[0m==================================\n",
      "Tool Calls:\n",
      "  calculator (toolu_bdrk_01LJBJzvtKqiJrQxhuhXwR6A)\n",
      " Call ID: toolu_bdrk_01LJBJzvtKqiJrQxhuhXwR6A\n",
      "  Args:\n",
      "    numeric_formula: (2.718281828459045 ** 3.141592653589793) - (3.141592653589793 ** 2.718281828459045)\n",
      "=================================\u001b[1m Tool Message \u001b[0m=================================\n",
      "Name: calculator\n",
      "\n",
      "0.6815349144182221\n",
      "==================================\u001b[1m Ai Message \u001b[0m==================================\n",
      "\n",
      "The result of e to the pi minus pi to the e is approximately 0.6815349144182221.\n"
     ]
    }
   ],
   "source": [
    "events = agent.stream(\n",
    "    {\"messages\": [{\"role\": \"user\", \"content\": query}]},\n",
    "    stream_mode=\"values\",\n",
    ")\n",
    "for event in events:\n",
    "    event[\"messages\"][-1].pretty_print()"
   ]
  },
  {
   "cell_type": "code",
   "execution_count": null,
   "metadata": {},
   "outputs": [],
   "source": []
  }
 ],
 "metadata": {
  "kernelspec": {
   "display_name": ".venv",
   "language": "python",
   "name": "python3"
  },
  "language_info": {
   "codemirror_mode": {
    "name": "ipython",
    "version": 3
   },
   "file_extension": ".py",
   "mimetype": "text/x-python",
   "name": "python",
   "nbconvert_exporter": "python",
   "pygments_lexer": "ipython3",
   "version": "3.13.1"
  }
 },
 "nbformat": 4,
 "nbformat_minor": 2
}
